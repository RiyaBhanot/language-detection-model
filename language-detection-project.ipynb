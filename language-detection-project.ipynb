{
 "cells": [
  {
   "cell_type": "markdown",
   "id": "c2d7805b-afb9-4f8a-819c-1ee9608bb641",
   "metadata": {},
   "source": [
    "# 1. Loading Dataset from Hugging Face"
   ]
  },
  {
   "cell_type": "code",
   "execution_count": 3,
   "id": "90b1d661-2c52-45a9-8b24-44c278ea9305",
   "metadata": {},
   "outputs": [
    {
     "name": "stdout",
     "output_type": "stream",
     "text": [
      "en language is downloading\n"
     ]
    },
    {
     "data": {
      "application/vnd.jupyter.widget-view+json": {
       "model_id": "323458bf08864933a462299101be7029",
       "version_major": 2,
       "version_minor": 0
      },
      "text/plain": [
       "Resolving data files:   0%|          | 0/41 [00:00<?, ?it/s]"
      ]
     },
     "metadata": {},
     "output_type": "display_data"
    },
    {
     "data": {
      "application/vnd.jupyter.widget-view+json": {
       "model_id": "95422607c94a4d389bc1dcc57ae88875",
       "version_major": 2,
       "version_minor": 0
      },
      "text/plain": [
       "Loading dataset shards:   0%|          | 0/41 [00:00<?, ?it/s]"
      ]
     },
     "metadata": {},
     "output_type": "display_data"
    },
    {
     "name": "stdout",
     "output_type": "stream",
     "text": [
      "en dataset has 6407814 rows\n",
      "fr language is downloading\n"
     ]
    },
    {
     "data": {
      "application/vnd.jupyter.widget-view+json": {
       "model_id": "65dd51071b624de097d4846ff8864ba8",
       "version_major": 2,
       "version_minor": 0
      },
      "text/plain": [
       "Resolving data files:   0%|          | 0/17 [00:00<?, ?it/s]"
      ]
     },
     "metadata": {},
     "output_type": "display_data"
    },
    {
     "data": {
      "application/vnd.jupyter.widget-view+json": {
       "model_id": "5e30816258714686b005445ec1257055",
       "version_major": 2,
       "version_minor": 0
      },
      "text/plain": [
       "Loading dataset shards:   0%|          | 0/17 [00:00<?, ?it/s]"
      ]
     },
     "metadata": {},
     "output_type": "display_data"
    },
    {
     "name": "stdout",
     "output_type": "stream",
     "text": [
      "fr dataset has 2564646 rows\n",
      "de language is downloading\n"
     ]
    },
    {
     "data": {
      "application/vnd.jupyter.widget-view+json": {
       "model_id": "c0295e46a6834bb7bd6a25c8b4eb07c6",
       "version_major": 2,
       "version_minor": 0
      },
      "text/plain": [
       "Resolving data files:   0%|          | 0/20 [00:00<?, ?it/s]"
      ]
     },
     "metadata": {},
     "output_type": "display_data"
    },
    {
     "data": {
      "application/vnd.jupyter.widget-view+json": {
       "model_id": "071cb4c5742a4f6386b5ee529f7c8b0e",
       "version_major": 2,
       "version_minor": 0
      },
      "text/plain": [
       "Loading dataset shards:   0%|          | 0/20 [00:00<?, ?it/s]"
      ]
     },
     "metadata": {},
     "output_type": "display_data"
    },
    {
     "name": "stdout",
     "output_type": "stream",
     "text": [
      "de dataset has 2845308 rows\n",
      "hi language is downloading\n",
      "hi dataset has 163093 rows\n",
      "te language is downloading\n",
      "te dataset has 87854 rows\n",
      "ta language is downloading\n",
      "ta dataset has 160651 rows\n",
      "pa language is downloading\n",
      "pa dataset has 51423 rows\n",
      "mr language is downloading\n",
      "mr dataset has 94133 rows\n",
      "bn language is downloading\n",
      "bn dataset has 143069 rows\n",
      "ru language is downloading\n"
     ]
    },
    {
     "data": {
      "application/vnd.jupyter.widget-view+json": {
       "model_id": "fb0596953d724d04a755ce40a1179c80",
       "version_major": 2,
       "version_minor": 0
      },
      "text/plain": [
       "Resolving data files:   0%|          | 0/21 [00:00<?, ?it/s]"
      ]
     },
     "metadata": {},
     "output_type": "display_data"
    },
    {
     "data": {
      "application/vnd.jupyter.widget-view+json": {
       "model_id": "c67f7b941c0a4a7f81036f509c784d54",
       "version_major": 2,
       "version_minor": 0
      },
      "text/plain": [
       "Loading dataset shards:   0%|          | 0/21 [00:00<?, ?it/s]"
      ]
     },
     "metadata": {},
     "output_type": "display_data"
    },
    {
     "name": "stdout",
     "output_type": "stream",
     "text": [
      "ru dataset has 1945063 rows\n",
      "\n",
      "Smallest dataset has 51423 rows, we will balance according to this\n"
     ]
    }
   ],
   "source": [
    "from datasets import load_dataset\n",
    "languages = [\"en\", \"fr\", \"de\", \"hi\", \"te\", \"ta\", \"pa\", \"mr\", \"bn\", \"ru\"]\n",
    "\n",
    "datasets = []\n",
    "\n",
    "min_samples = float('inf')\n",
    "\n",
    "for lang in languages:\n",
    "    print(lang + \" language is downloading\")\n",
    "    ds = load_dataset(\"wikimedia/wikipedia\", \"20231101.\" + lang)[\"train\"]\n",
    "\n",
    "    row_count = len(ds)\n",
    "    print(lang + \" dataset has \" + str(row_count) + \" rows\")\n",
    "\n",
    "    min_samples = min(min_samples, row_count)\n",
    "    datasets.append(ds)  \n",
    "\n",
    "print(\"\\nSmallest dataset has \" + str(min_samples) + \" rows, we will balance according to this\")"
   ]
  },
  {
   "cell_type": "markdown",
   "id": "b7c855e3-2706-4ff8-9ebf-f32bcef23835",
   "metadata": {},
   "source": [
    "# 2. Shuffling and Selecting Equal Samples from Each Dataset and Merging them Into One Final Dataset"
   ]
  },
  {
   "cell_type": "code",
   "execution_count": 6,
   "id": "7e424262-7cdc-42d5-ab37-8c970d586535",
   "metadata": {},
   "outputs": [
    {
     "name": "stdout",
     "output_type": "stream",
     "text": [
      "Shuffling dataset for removing bias\n",
      "Shuffling dataset for removing bias\n",
      "Shuffling dataset for removing bias\n",
      "Shuffling dataset for removing bias\n",
      "Shuffling dataset for removing bias\n",
      "Shuffling dataset for removing bias\n",
      "Shuffling dataset for removing bias\n",
      "Shuffling dataset for removing bias\n",
      "Shuffling dataset for removing bias\n",
      "Shuffling dataset for removing bias\n",
      "We got the dataset of same size\n",
      "Merging balanced datasets\n",
      "Final Dataset, Total rows: 514230\n"
     ]
    }
   ],
   "source": [
    "from datasets import concatenate_datasets\n",
    "\n",
    "balanced_datasets = []\n",
    "\n",
    "for ds in datasets:\n",
    "    print(\"Shuffling dataset for removing bias\")\n",
    "    balanced_ds = ds.shuffle(seed=42).select(range(min_samples))\n",
    "    balanced_datasets.append(balanced_ds)\n",
    "\n",
    "print(\"We got the dataset of same size\")\n",
    "print(\"Merging balanced datasets\")\n",
    "\n",
    "final_dataset = concatenate_datasets(balanced_datasets)\n",
    "\n",
    "print(\"Final Dataset, Total rows: \" + str(len(final_dataset)))"
   ]
  },
  {
   "cell_type": "code",
   "execution_count": 10,
   "id": "833a29d4-327d-4cc2-bd27-c59d71d965cf",
   "metadata": {},
   "outputs": [
    {
     "name": "stdout",
     "output_type": "stream",
     "text": [
      "Dataset({\n",
      "    features: ['id', 'url', 'title', 'text', 'label'],\n",
      "    num_rows: 514230\n",
      "})\n"
     ]
    }
   ],
   "source": [
    "print(final_dataset)"
   ]
  },
  {
   "cell_type": "markdown",
   "id": "03704e9a-b2a4-4ed3-af12-a495c83893d7",
   "metadata": {},
   "source": [
    "# 3. Labeling the language by extracting it from the URL"
   ]
  },
  {
   "cell_type": "code",
   "execution_count": 12,
   "id": "72c1a3a1-5d86-4083-94cd-5df3f1502e2c",
   "metadata": {},
   "outputs": [
    {
     "data": {
      "application/vnd.jupyter.widget-view+json": {
       "model_id": "8879c1f8cdf4406faae032957db32fb4",
       "version_major": 2,
       "version_minor": 0
      },
      "text/plain": [
       "Map:   0%|          | 0/514230 [00:00<?, ? examples/s]"
      ]
     },
     "metadata": {},
     "output_type": "display_data"
    }
   ],
   "source": [
    "import re\n",
    "\n",
    "def extract_language_from_url(url):\n",
    "    match = re.match(\"https://\" + \"([a-z]+)\" + \".wikipedia.org\", url)\n",
    "    if match:\n",
    "        return match.group(1)\n",
    "    else:\n",
    "        return None\n",
    "def add_language_label(row):\n",
    "    row[\"label\"] = extract_language_from_url(row[\"url\"])\n",
    "    return row\n",
    "\n",
    "final_dataset = final_dataset.map(add_language_label)"
   ]
  },
  {
   "cell_type": "code",
   "execution_count": 14,
   "id": "ee83e319-4f8d-4d16-9512-3326b19a1e3c",
   "metadata": {},
   "outputs": [
    {
     "name": "stdout",
     "output_type": "stream",
     "text": [
      "{'id': '7846293', 'url': 'https://en.wikipedia.org/wiki/HM%20Prison%20Hull', 'title': 'HM Prison Hull', 'text': 'HMP Hull is a Category B men\\'s local prison located in Kingston upon Hull in England. The term \\'local\\' means that this prison holds people on remand to the local courts. The prison is operated by His Majesty\\'s Prison Service.\\n\\nHistory\\nHull Prison opened in 1870, and is of a typical Victorian design. \\nEthel Major was the last person and only woman to be executed at Hull in 1934. She had been convicted of the murder of her husband. An exhibition \"Within These Walls\" follows the prison\\'s history from 1299 to 1934. \\nThe exhibition was designed and created by Officer Rob Nicholson and officially opened by Lawrence Major, Ethel\\'s grandson.\\n\\nIn 1976 Hull prison was involved in a three-day riot by inmates of the prison. Over 100 prisoners were involved in a protest that erupted over staff brutality. The riot ended peacefully on 3 September 1976 but over two thirds of the prison was destroyed,\\nwith an estimated repair cost of £3 – £4\\xa0million. The prison was closed for a year while repairs were carried out. Disciplinary proceedings following the riots led to a number of legal challenges.\\n\\nThe Prison was removed from the high-security estate in 1985 and became a local prison holding inmates remanded and sentenced by courts in the area.\\n\\nIn 2002 a major expansion was completed making the prison more modern rather than Victorian, which added four new wings, a new gymnasium, a new health care centre and a multi-faith centre.\\n\\nIn January 2013, the Ministry of Justice announced that older parts of Hull Prison will close, with a reduction of 282 places at the prison. In April 2014 the Ministry of Justice announced that these would be brought back into use as the \"prison population is currently above published projections\".\\n\\nAfter rioting at Birmingham Prison in December 2016, some prisoners were transferred from Birmingham to Hull.  Disturbances were reported at HMP Hull.\\n\\nOn 14 September 2018, Staff at HMP Hull, along with many other prisons across the country, walked out under protest due to health and safety conditions across the prison estate. The protest was amid fears of rising violence, wanting safety improvements and a reduction in violence and overcrowding.\\n\\nIn January 2019, it was announced that HMP Hull will be one of 10 prisons chosen for body scanners which aims to reduce drugs and violence, while improving standards, in the country\\'s most challenging jails providing a template for the wider estate.\\n\\nIn January 2021, it was reported that HMP Hull had been dealing with a huge COVID-19 outbreak which saw around 80 prisoners and staff struck down by the virus.\\n\\nThe prison today\\nHull is a local prison holding remand, sentenced and convicted males. Prisoners are employed in the workshops, kitchens, gardens and waste management departments. Education classes are also available to prisoners.\\n\\nHMP Hull houses the Within These Walls exhibition which charts the history of Hull\\'s prisons from 1299 through to the present day. The exhibition was created by officer Rob Nicholson and opened in 2011.\\n\\nNotable  inmates\\n Charles Bronson\\n Paul Sykes\\n Robert Maudsley\\n Tommy Robinson\\n\\nReferences\\n\\nExternal links\\n\\n Ministry of Justice pages on Hull\\n Texts on the 1976 riot\\n HMP Hull – HM Inspectorate of Prisons Reports\\n\\nPrisons in the East Riding of Yorkshire\\nBuildings and structures in Kingston upon Hull\\nPrison uprisings in the United Kingdom\\n1870 establishments in England\\nRiots and civil disorder in England\\n1976 riots\\nHull', 'label': 'en'}\n"
     ]
    }
   ],
   "source": [
    "print(final_dataset[0])"
   ]
  },
  {
   "cell_type": "markdown",
   "id": "b0a821ca-3ed2-440f-b88a-b81df92eebbd",
   "metadata": {},
   "source": [
    "# 4. Since, I only required text and label. Therefore, I removed the url, title, and id from the dataset"
   ]
  },
  {
   "cell_type": "code",
   "execution_count": 16,
   "id": "e5e79a25-a62f-4dfc-8934-815b14b961fc",
   "metadata": {},
   "outputs": [
    {
     "name": "stdout",
     "output_type": "stream",
     "text": [
      "{'text': \"Etter est un patronyme pouvant désigner:\\n\\nPatronyme\\nBill Etter (né en 1950), américain joueur de football américain \\nBob Etter (né en 1945), américain joueur de football américain\\nCarrie Etter (née en 1969), poétesse américaine\\nFernand Etter (1941-1997), coureur cycliste français\\nLior Etter (né en 1990), footballeur suisse\\nMaria Woodworth-Etter (1844-1924), évangéliste américaine\\nPhilipp Etter (1891-1977), homme politique suisse\\n\\nToponyme\\n20804 Etter, astéroïde de la ceinture d'astéroïdes\\n\\nHomonymie\\nHomonymie de patronyme\", 'label': 'fr'}\n"
     ]
    }
   ],
   "source": [
    "final_dataset = final_dataset.remove_columns(['url', 'title', 'id'])\n",
    "\n",
    "print(final_dataset[64000])"
   ]
  },
  {
   "cell_type": "markdown",
   "id": "b5121f6f-485d-4141-bf4d-8d0e5e23e064",
   "metadata": {},
   "source": [
    "# 5. Removing '\\n' from the dataset"
   ]
  },
  {
   "cell_type": "code",
   "execution_count": 18,
   "id": "04d64543-6cc8-4657-92fd-e9f7be32007b",
   "metadata": {},
   "outputs": [
    {
     "data": {
      "application/vnd.jupyter.widget-view+json": {
       "model_id": "6eac860fc5c7442bacef2a8976df2386",
       "version_major": 2,
       "version_minor": 0
      },
      "text/plain": [
       "Map:   0%|          | 0/514230 [00:00<?, ? examples/s]"
      ]
     },
     "metadata": {},
     "output_type": "display_data"
    }
   ],
   "source": [
    "def remove_newlines(row):\n",
    "    row[\"text\"] = row[\"text\"].replace(\"\\n\", \"\")\n",
    "    return row\n",
    "final_dataset = final_dataset.map(remove_newlines)"
   ]
  },
  {
   "cell_type": "markdown",
   "id": "b2927126-31c8-4603-b2d1-2edc0e457699",
   "metadata": {},
   "source": [
    "# 6. Vectorization to transform the text data into numerical features"
   ]
  },
  {
   "cell_type": "code",
   "execution_count": 20,
   "id": "abebb491-7a6b-44da-99ba-65eba7d1600f",
   "metadata": {},
   "outputs": [
    {
     "name": "stdout",
     "output_type": "stream",
     "text": [
      "TF-IDF Feature Matrix Shape: (514230, 10000)\n"
     ]
    }
   ],
   "source": [
    "from sklearn.feature_extraction.text import TfidfVectorizer\n",
    "\n",
    "\n",
    "vectorizer = TfidfVectorizer(analyzer='char_wb', ngram_range=(2, 4), max_features=10000)  # Max 10000 words consider karenge\n",
    "\n",
    "X = vectorizer.fit_transform(final_dataset['text'])  \n",
    "\n",
    "y = final_dataset['label']\n",
    "\n",
    "print(\"TF-IDF Feature Matrix Shape:\", X.shape)"
   ]
  },
  {
   "cell_type": "markdown",
   "id": "73bfa90d-67a0-440c-80f8-8a03ea77d5ea",
   "metadata": {},
   "source": [
    "# 7. Splitting dataset into training and testing data"
   ]
  },
  {
   "cell_type": "code",
   "execution_count": 24,
   "id": "9f376a3c-f67a-4281-862c-b8d335de2046",
   "metadata": {},
   "outputs": [
    {
     "name": "stdout",
     "output_type": "stream",
     "text": [
      "Training Data Shape: (411384, 10000)\n",
      "Testing Data Shape: (102846, 10000)\n"
     ]
    }
   ],
   "source": [
    "from sklearn.model_selection import train_test_split\n",
    "\n",
    "X_train, X_test, y_train, y_test = train_test_split(X, y, test_size=0.2, random_state=42)\n",
    "\n",
    "print(\"Training Data Shape:\", X_train.shape)\n",
    "print(\"Testing Data Shape:\", X_test.shape)"
   ]
  },
  {
   "cell_type": "markdown",
   "id": "3cf83961-a816-4ece-8381-cfd9f336035d",
   "metadata": {},
   "source": [
    "# 8. Training the model using Multinomial Naive-Bayes classification"
   ]
  },
  {
   "cell_type": "code",
   "execution_count": 26,
   "id": "618554d6-b3d4-47c8-a5bd-7c82b966ed63",
   "metadata": {},
   "outputs": [
    {
     "name": "stdout",
     "output_type": "stream",
     "text": [
      "Model Training Complete\n"
     ]
    }
   ],
   "source": [
    "from sklearn.naive_bayes import MultinomialNB\n",
    "nb_model = MultinomialNB()\n",
    "nb_model.fit(X_train, y_train)\n",
    "print(\"Model Training Complete\")"
   ]
  },
  {
   "cell_type": "markdown",
   "id": "33e87ff2-22eb-444f-8e19-b6dc3985b3c6",
   "metadata": {},
   "source": [
    "# 9. Evaluating the Naive Bayes classification model on the test dataset and visualizing its Confusion Matrix"
   ]
  },
  {
   "cell_type": "code",
   "execution_count": 44,
   "id": "7d67f202-5ef2-4f3b-8419-60e967708d39",
   "metadata": {},
   "outputs": [
    {
     "name": "stdout",
     "output_type": "stream",
     "text": [
      "Model Accuracy: 0.9955\n",
      "              precision    recall  f1-score   support\n",
      "\n",
      "          bn       1.00      1.00      1.00     10245\n",
      "          de       1.00      1.00      1.00     10217\n",
      "          en       0.97      1.00      0.98     10315\n",
      "          fr       1.00      1.00      1.00     10295\n",
      "          hi       0.99      0.99      0.99     10373\n",
      "          mr       1.00      0.99      0.99     10252\n",
      "          pa       1.00      0.99      1.00     10206\n",
      "          ru       1.00      1.00      1.00     10405\n",
      "          ta       1.00      1.00      1.00     10281\n",
      "          te       1.00      1.00      1.00     10257\n",
      "\n",
      "    accuracy                           1.00    102846\n",
      "   macro avg       1.00      1.00      1.00    102846\n",
      "weighted avg       1.00      1.00      1.00    102846\n",
      "\n"
     ]
    }
   ],
   "source": [
    "from sklearn.metrics import accuracy_score, classification_report\n",
    "\n",
    "y_pred = nb_model.predict(X_test)\n",
    "\n",
    "accuracy = accuracy_score(y_test, y_pred)\n",
    "print(\"Model Accuracy: %.4f\" % accuracy)\n",
    "\n",
    "print(classification_report(y_test, y_pred))"
   ]
  },
  {
   "cell_type": "code",
   "execution_count": 40,
   "id": "87dac28d-f896-4a70-a81c-2898983265e5",
   "metadata": {},
   "outputs": [
    {
     "data": {
      "image/png": "[encoded data removed]",
      "text/plain": [
       "<Figure size 1000x500 with 2 Axes>"
      ]
     },
     "metadata": {},
     "output_type": "display_data"
    }
   ],
   "source": [
    "import numpy as np\n",
    "import matplotlib.pyplot as plt\n",
    "import seaborn as sns\n",
    "from sklearn.metrics import confusion_matrix\n",
    "cm = confusion_matrix(y_test, y_pred)\n",
    "plt.figure(figsize=(10,5))\n",
    "sns.heatmap(cm, annot=True, fmt='d', cmap='Blues', xticklabels=np.unique(y_test), yticklabels=np.unique(y_test))\n",
    "plt.xlabel(\"Predicted Label\")\n",
    "plt.ylabel(\"True Label\")\n",
    "plt.title(\"Confusion Matrix\")\n",
    "plt.show()"
   ]
  },
  {
   "cell_type": "markdown",
   "id": "0b691e9a-fe8b-4f19-b951-74e5ec8daea0",
   "metadata": {},
   "source": [
    "# 10. Testing the model using test cases"
   ]
  },
  {
   "cell_type": "code",
   "execution_count": 46,
   "id": "a52e61d7-21c4-48b8-8e11-c16d00b6f3f4",
   "metadata": {},
   "outputs": [
    {
     "name": "stdout",
     "output_type": "stream",
     "text": [
      "Text: Hello, how are you?\n",
      "Predicted Language: en\n",
      "\n",
      "Text: Bonjour, comment ça va?\n",
      "Predicted Language: fr\n",
      "\n",
      "Text: नमस्ते, आप कैसे हैं?\n",
      "Predicted Language: hi\n",
      "\n",
      "Text: Wie geht es Ihnen?\n",
      "Predicted Language: de\n",
      "\n",
      "Text: స్వాగతం, మీరు ఎలా ఉన్నారు?\n",
      "Predicted Language: te\n",
      "\n",
      "Text: ਸਤਿ ਸ਼੍ਰੀ ਅਕਾਲ ਤੁਹਾਡਾ ਕੀ ਹਾਲ ਹੈ\n",
      "Predicted Language: pa\n",
      "\n",
      "Text: வணக்கம், எப்படி இருக்கிறீர்கள்?\n",
      "Predicted Language: ta\n",
      "\n",
      "Text: कसे आहात?\n",
      "Predicted Language: mr\n",
      "\n",
      "Text: হ্যালো, কেমন আছো?\n",
      "Predicted Language: bn\n",
      "\n",
      "Text: меня зовут Рия\n",
      "Predicted Language: ru\n",
      "\n"
     ]
    }
   ],
   "source": [
    "def predict_language(text):\n",
    "    text_vectorized = vectorizer.transform([text])\n",
    "\n",
    "    predicted_label = nb_model.predict(text_vectorized)[0]\n",
    "    \n",
    "    return predicted_label\n",
    "\n",
    "# Example test cases\n",
    "test_texts = [\n",
    "    \"Hello, how are you?\",   # English\n",
    "    \"Bonjour, comment ça va?\",  # French\n",
    "    \"नमस्ते, आप कैसे हैं?\",  # Hindi\n",
    "    \"Wie geht es Ihnen?\",  # German\n",
    "    \"స్వాగతం, మీరు ఎలా ఉన్నారు?\", #Telgu\n",
    "    \"ਸਤਿ ਸ਼੍ਰੀ ਅਕਾਲ ਤੁਹਾਡਾ ਕੀ ਹਾਲ ਹੈ\", #Punjabi\n",
    "    \"வணக்கம், எப்படி இருக்கிறீர்கள்?\", #Tamil\n",
    "    \"कसे आहात?\", #Marathi\n",
    "    \"হ্যালো, কেমন আছো?\", #Bengali\n",
    "    \"меня зовут Рия\" #Russian\n",
    "]\n",
    "\n",
    "for text in test_texts:\n",
    "    predicted_lang = predict_language(text)\n",
    "    print(\"Text: \" + text + \"\\nPredicted Language: \" + predicted_lang + \"\\n\")"
   ]
  }
 ],
 "metadata": {
  "kernelspec": {
   "display_name": "Python [conda env:base] *",
   "language": "python",
   "name": "conda-base-py"
  },
  "language_info": {
   "codemirror_mode": {
    "name": "ipython",
    "version": 3
   },
   "file_extension": ".py",
   "mimetype": "text/x-python",
   "name": "python",
   "nbconvert_exporter": "python",
   "pygments_lexer": "ipython3",
   "version": "3.12.7"
  }
 },
 "nbformat": 4,
 "nbformat_minor": 5
}
